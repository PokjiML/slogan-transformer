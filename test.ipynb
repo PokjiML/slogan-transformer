{
 "cells": [
  {
   "cell_type": "markdown",
   "metadata": {},
   "source": [
    "Transformer model with pytorch"
   ]
  },
  {
   "cell_type": "code",
   "execution_count": 3,
   "metadata": {},
   "outputs": [],
   "source": [
    "import torch\n",
    "import pandas as pd\n",
    "import numpy as np"
   ]
  },
  {
   "cell_type": "code",
   "execution_count": 73,
   "metadata": {},
   "outputs": [
    {
     "name": "stdout",
     "output_type": "stream",
     "text": [
      "[' ', '!', '\"', '#', '$', '%', '&', \"'\", '*', '+', ',', '-', '.', '/', '0', '1', '2', '3', '4', '5', '6', '7', '8', '9', ':', ';', '=', '?', '[', ']', 'a', 'b', 'c', 'd', 'e', 'f', 'g', 'h', 'i', 'j', 'k', 'l', 'm', 'n', 'o', 'p', 'q', 'r', 's', 't', 'u', 'v', 'w', 'x', 'y', 'z', '£', '·', '–', '—', '‘', '’', '“', '”', '…']\n"
     ]
    }
   ],
   "source": [
    "slogans = pd.read_csv('all_slogans.csv', sep=';')['slogan']\n",
    "slogans = slogans.str.lower()\n",
    "\n",
    "# reducing invaluable tokens\n",
    "to_remove = ['\\n', '\\r', '>', '\\x80', '\\x93', '\\x94', '\\x99', '\\x9d', '\\xa0',\n",
    "             '¦', '®', '°', 'º', '¼', '½','×', 'â', 'ã', 'è', 'é', 'ï', 'ñ', 'ú', 'ü',\n",
    "             '⁄', '（', '）', '，', ]\n",
    "\n",
    "for char in to_remove:\n",
    "    slogans = slogans.str.replace(char, ' ')\n",
    "\n",
    "# normalizing some tokens\n",
    "slogans.str.replace(\"’\", \"'\").replace(\"‘\", \"'\")\n",
    "slogans.str.replace(\"“\", '\"').replace(\"”\", '\"')\n",
    "slogans.str.replace(\"…\", '...')\n",
    "\n",
    "\n",
    "\n",
    "characters = [char for slogan in slogans for char in slogan]\n",
    "print(sorted(set(characters)))"
   ]
  },
  {
   "cell_type": "code",
   "execution_count": null,
   "metadata": {},
   "outputs": [],
   "source": [
    "to_remove = ['\\n', '\\r', '>', '\\x80', '\\x93', '\\x94', '\\x99', '\\x9d', '\\xa0',\n",
    "             '¦', '®', '°', 'º', '¼', '½','×', 'â', 'ã', 'è', 'é', 'ï', 'ñ', 'ú', 'ü',\n",
    "             '⁄', '（', '）', '，', ]"
   ]
  },
  {
   "cell_type": "code",
   "execution_count": 72,
   "metadata": {},
   "outputs": [
    {
     "name": "stdout",
     "output_type": "stream",
     "text": [
      "western airlines....the only way to fly!\n",
      "oh, i love my underalls...'cause they make me look like i'm not wearin' nothin'.\n",
      "around the world... it's catalina.\n",
      "when play comes first...\n",
      "bj’s – where values come to life...\n",
      "mtv... proud as a moon man\n",
      "it's a pillow. it's a pet... it's a pillow pet.\n",
      "the family pizzeria ... flavor you cannot refuse.\n",
      "2012-2015 : low in price... but high in trust\n",
      "...anyhow, have a winfield 25's\n",
      "...anyhow, have a winfield\n",
      "where noosa comes to shop... naturally.\n",
      "go first-class.... go phillips 66\n",
      "go with the spirit...the spirit of '76.\n",
      "high performance, time and again...\n",
      "in man's search for a new measure of excellence...\n",
      "it's our business... to deliver yours\n",
      "seven billion stories and counting...\n",
      "the many voices of one australia, six billion stories and counting...\n",
      "aep, america's energy partner...\n",
      "my life...my style...my store\n",
      "shopko discounts the price...not the quality.\n",
      "for people who love food... and savings!  \n",
      "for people who love food... and low prices!  \n",
      "not cooking tonight... we're grilling tonight! summer house of bbq campaign  \n",
      "always fresh...always for less!  \n",
      "where you always get more...for less.\n",
      "sensational savings... and service too!\n",
      "easy, fresh and affordable... you can count on food lion... every day\n",
      "better things for better living...through chemistry.\n",
      "it beats...as it sweeps...as it cleans\n",
      "it lights where it's going...it's clean where it's gone\n",
      "it lights...as it beats...as it sweeps...as it cleans\n",
      "hoover fine appliances around the house....around the world\n",
      "hoover...nobody does it like you\n",
      "our mission is to simply delight you...everyday.\n",
      "ssh... the best belgian blonde beer in the world\n",
      "people who know beer... have brains\n",
      "toffee. together. tonight...\n",
      "linger but... stay beautiful\n",
      "tonicol .....is different.\n",
      "tonicol... the different soft drink.\n",
      "bite into it...\n",
      "sanka... everything you love about coffee.\n",
      "the best part of wakin' up... is folgers in your cup.\n",
      "olmeca... and the fun goes on!\n",
      "don't tap it... whack it!\n",
      "...there's so much fun in toffifee!\n",
      "after a 100 years ... it's time to kick the can.\n",
      "life's pretty straight without...  \n",
      "life is fun with...  \n",
      "reese's ...perfect.\n",
      "the best to you each morning...from kellogg's\n",
      "go ahead... get creative!\n",
      "leave the rest... taste the best!\n",
      "of the 235 million people in america, only a fraction can use a computer... introducing macintosh. for the rest of us.\n",
      "change is here...keep watch- all fools day\n",
      "discover a different world...\n",
      "i am... we are channel nine people\n",
      "in the right place[...] at the right time\n"
     ]
    },
    {
     "data": {
      "text/plain": [
       "39"
      ]
     },
     "execution_count": 72,
     "metadata": {},
     "output_type": "execute_result"
    }
   ],
   "source": [
    "for slogan in slogans:\n",
    "    if '...' in slogan:\n",
    "        print(slogan)\n",
    "\n",
    "slogans.str.contains('…').sum()"
   ]
  }
 ],
 "metadata": {
  "kernelspec": {
   "display_name": "cuda_pytorch_dev",
   "language": "python",
   "name": "python3"
  },
  "language_info": {
   "codemirror_mode": {
    "name": "ipython",
    "version": 3
   },
   "file_extension": ".py",
   "mimetype": "text/x-python",
   "name": "python",
   "nbconvert_exporter": "python",
   "pygments_lexer": "ipython3",
   "version": "3.8.20"
  }
 },
 "nbformat": 4,
 "nbformat_minor": 2
}
