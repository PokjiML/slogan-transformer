{
 "cells": [
  {
   "cell_type": "markdown",
   "metadata": {},
   "source": [
    "Transformer model with pytorch"
   ]
  },
  {
   "cell_type": "code",
   "execution_count": 1,
   "metadata": {},
   "outputs": [],
   "source": [
    "import torch\n",
    "import torch.nn as nn\n",
    "import torch.optim as optim                         # Adam optimizer\n",
    "import torch.nn.functional as F                     # Softmax function\n",
    "from torch.utils.data import DataLoader, Dataset    # Loading batches\n",
    "import torch.nn.utils.rnn as rnn_utils              # Padding the sequence\n",
    "from torch.optim.lr_scheduler import OneCycleLR     # Learning rate scheduler\n",
    "from transformers import AutoTokenizer              # BPE Tokenizer\n",
    "import pandas as pd\n",
    "import numpy as np\n",
    "import math"
   ]
  },
  {
   "cell_type": "code",
   "execution_count": 2,
   "metadata": {},
   "outputs": [
    {
     "name": "stdout",
     "output_type": "stream",
     "text": [
      "cuda\n"
     ]
    }
   ],
   "source": [
    "device = torch.device(\"cuda\" if torch.cuda.is_available() else \"cpu\")\n",
    "print(device)"
   ]
  },
  {
   "cell_type": "code",
   "execution_count": 3,
   "metadata": {},
   "outputs": [],
   "source": [
    "all_slogans = pd.read_csv('all_slogans.csv', sep=';')\n",
    "slogans = all_slogans['slogan']\n",
    "slogans = slogans.str.lower()\n",
    "\n",
    "# reducing invaluable tokens\n",
    "to_remove = ['\\n', '\\r', '>', '\\x80', '\\x93', '\\x94', '\\x99', '\\x9d', '\\xa0',\n",
    "             '¦', '®', '°', 'º', '¼', '½','×', 'â', 'ã', 'è', 'é', 'ï', 'ñ', 'ú', 'ü',\n",
    "             '⁄', '（', '）', '，', '·']\n",
    "\n",
    "dict_to_remove = {\"’\" : \"'\", \"‘\" : \"'\", \"“\" : '\"', \"”\" : '\"',\n",
    "                  \"…\" : '...', '—': '-', '–': '-'}\n",
    "\n",
    "\n",
    "# removing useless toknes\n",
    "for char in to_remove:\n",
    "    slogans = slogans.str.replace(char, ' ')\n",
    "\n",
    "# replacing tokens with normalised versions\n",
    "for key, value in dict_to_remove.items():\n",
    "    slogans = slogans.str.replace(key, value)\n"
   ]
  },
  {
   "cell_type": "code",
   "execution_count": 4,
   "metadata": {},
   "outputs": [
    {
     "data": {
      "text/plain": [
       "'[CLS] the way i like to travel [SEP] [PAD] [PAD] [PAD] [PAD] [PAD] [PAD] [PAD] [PAD] [PAD] [PAD] [PAD] [PAD] [PAD] [PAD] [PAD] [PAD] [PAD] [PAD] [PAD] [PAD] [PAD] [PAD] [PAD] [PAD] [PAD] [PAD] [PAD]'"
      ]
     },
     "execution_count": 4,
     "metadata": {},
     "output_type": "execute_result"
    }
   ],
   "source": [
    "# BPE tokenizer for bert\n",
    "tokenizer = AutoTokenizer.from_pretrained(\"bert-base-uncased\")\n",
    "\n",
    "# Tokenizing the dataset\n",
    "encoded_slogans = tokenizer.batch_encode_plus(\n",
    "    slogans.tolist(),\n",
    "    add_special_tokens=True, # <BoS> and <EoS>\n",
    "    padding=True,            # Pad for same seq_length\n",
    "    truncation=True,         # Truncate to max length\n",
    "    return_tensors='pt'      # Torch datatype\n",
    ")\n",
    "\n",
    "# Focusing only on tokens\n",
    "encoded_slogans = encoded_slogans['input_ids']\n",
    "\n",
    "# test example\n",
    "encoded_slogans.shape\n",
    "tokenizer.decode(encoded_slogans[2])"
   ]
  },
  {
   "cell_type": "code",
   "execution_count": 5,
   "metadata": {},
   "outputs": [
    {
     "data": {
      "text/plain": [
       "torch.Size([11646, 35])"
      ]
     },
     "execution_count": 5,
     "metadata": {},
     "output_type": "execute_result"
    }
   ],
   "source": [
    "encoded_slogans.shape"
   ]
  },
  {
   "cell_type": "code",
   "execution_count": 6,
   "metadata": {},
   "outputs": [],
   "source": [
    "# define hyperparameters\n",
    "vocab_size = tokenizer.vocab_size\n",
    "d_model = 512 # dim of the embedding vector               # From 384\n",
    "nhead = 8 # number of attention heads                     # From 8\n",
    "num_decoder_layers = 8 # number of decoder layers         # From 3\n",
    "dim_feedforward = 4096 # feed-forward network dimension   # From 2048\n",
    "max_seq_length = 20                                       # From 20\n",
    "batch_size = 128                                          # From 128\n",
    "dropout = 0.2                                             # From 0.1            \n",
    "PAD_TOKEN = tokenizer.pad_token_id\n"
   ]
  },
  {
   "cell_type": "code",
   "execution_count": 7,
   "metadata": {},
   "outputs": [],
   "source": [
    "class SloganDataset(Dataset):\n",
    "    def __init__(self, encoded_slogans, max_seq_length=20):\n",
    "        self.encoded_slogans = encoded_slogans \n",
    "        self.max_seq_length = max_seq_length\n",
    "        \n",
    "    def __len__(self):\n",
    "        return len(self.encoded_slogans)\n",
    "    \n",
    "    def __getitem__(self, idx):\n",
    "        slogan = self.encoded_slogans[idx]\n",
    "        \n",
    "        # Truncate if slogan is too long\n",
    "        if len(slogan) > self.max_seq_length:\n",
    "            slogan = slogan[:self.max_seq_length]     \n",
    "\n",
    "        input_sequence = slogan[:-1]\n",
    "        target_sequence = slogan[1:]\n",
    "        return input_sequence, target_sequence\n",
    "    \n",
    "\n",
    "\n",
    "# Test with subset of slogans\n",
    "subset_encoded_slogans = encoded_slogans\n",
    "dataset = SloganDataset(subset_encoded_slogans)\n",
    "dataloader = DataLoader(dataset, batch_size=batch_size, shuffle=True)\n"
   ]
  },
  {
   "cell_type": "markdown",
   "metadata": {},
   "source": [
    "### Building Positional Encoding and masks"
   ]
  },
  {
   "cell_type": "code",
   "execution_count": 8,
   "metadata": {},
   "outputs": [],
   "source": [
    "# Sinusoidal positional encoding\n",
    "def positional_encoding(seq_len, embed_dim):\n",
    "    pe = torch.zeros(seq_len, embed_dim)\n",
    "    for pos in range(seq_len):\n",
    "        for i in range(0, embed_dim, 2):\n",
    "            pe[pos, i] = math.sin(pos / (10000 ** (2 * i / embed_dim)))\n",
    "            pe[pos, i + 1] = math.cos(pos / (10000 ** (2 * i / embed_dim)))\n",
    "    return pe.unsqueeze(0) # Output for batch_dim propagation\n",
    "\n",
    "# Generate padding mask to prevent looking at not used tokens\n",
    "def generate_padding_mask(sequence, pad_token=tokenizer.pad_token_id):\n",
    "    mask = (sequence == pad_token).float()\n",
    "    mask = mask.masked_fill(mask == 1, float('-inf')).masked_fill(mask == 0, float(0.0))\n",
    "    return mask\n",
    "\n",
    "# Generate look ahead mask to prevent looking at future tokens\n",
    "def generate_look_ahead_mask(size):\n",
    "    mask = torch.triu(torch.ones(size, size) * float('-inf'), diagonal=1)\n",
    "    return mask\n",
    "\n"
   ]
  },
  {
   "cell_type": "code",
   "execution_count": 9,
   "metadata": {},
   "outputs": [],
   "source": [
    "class TransformerModel(nn.Module):\n",
    "    def __init__(self, vocab_size, d_model, nhead, num_decoder_layers, \n",
    "                 dim_feedforward, max_seq_length):\n",
    "        super(TransformerModel, self).__init__()\n",
    "        \n",
    "        # Create the token embedding\n",
    "        self.embedding = nn.Embedding(vocab_size, d_model)\n",
    "\n",
    "        # Initialize weights with Xavier normal for stability\n",
    "        nn.init.xavier_normal_(self.embedding.weight) \n",
    "\n",
    "        # Unsqueeze to add batch dimension\n",
    "        self.pos_encoder = positional_encoding(max_seq_length, d_model).to(device)\n",
    "\n",
    "        # Transformer Decoder layers\n",
    "        self.transformer_decoder_layer = nn.TransformerDecoderLayer(\n",
    "            d_model=d_model, nhead=nhead, dim_feedforward=dim_feedforward, batch_first=True)\n",
    "        self.transformer_decoder = nn.TransformerDecoder(\n",
    "            self.transformer_decoder_layer, num_layers=num_decoder_layers\n",
    "        )\n",
    "\n",
    "        self.fc_out = nn.Linear(d_model, vocab_size)\n",
    "        self.dropout = nn.Dropout(0.2)\n",
    "\n",
    "    def forward(self, src):\n",
    "        # Generate look ahead mask to prevent looking at future tokens\n",
    "        tgt_mask = generate_look_ahead_mask(src.size(1)).to(device) # check the change to 1\n",
    "        # Use padding mask to prevent looking at not used tokens\n",
    "        src_pad_mask = generate_padding_mask(src).to(device)\n",
    "        # sqrt for stabilization\n",
    "        src = self.embedding(src) * math.sqrt(d_model) # (batch_size, seq_len, d_model)\n",
    "        # add positional encoding \n",
    "        src = src + self.pos_encoder[:, :src.size(1), :] # src.size(1) = seq_len\n",
    "        output = self.transformer_decoder(tgt=src, memory=src, tgt_mask=tgt_mask,\n",
    "                                          memory_mask=tgt_mask, tgt_key_padding_mask=src_pad_mask) # Change the memory mask\n",
    "        output = self.dropout(output)\n",
    "        output = self.fc_out(output)\n",
    "        \n",
    "        return output\n",
    "    \n",
    "model = TransformerModel(vocab_size, d_model, nhead, \n",
    "                          num_decoder_layers, dim_feedforward, max_seq_length).to(device) # Watch out\n",
    "\n",
    "\n",
    "\n",
    "criterion = nn.CrossEntropyLoss(ignore_index=PAD_TOKEN)\n",
    "optimizer = optim.Adam(model.parameters(), lr=0.0005)\n",
    "\n",
    "# Warmup with LR scheduling (Cosine annealing)\n",
    "scheduler = OneCycleLR(optimizer, max_lr=0.0001, epochs=20, steps_per_epoch=batch_size)"
   ]
  },
  {
   "cell_type": "code",
   "execution_count": 10,
   "metadata": {},
   "outputs": [
    {
     "name": "stdout",
     "output_type": "stream",
     "text": [
      "Epoch 0\n"
     ]
    },
    {
     "name": "stderr",
     "output_type": "stream",
     "text": [
      "Epoch 0: 100%|██████████| 91/91 [01:17<00:00,  1.18batch/s]\n"
     ]
    },
    {
     "name": "stdout",
     "output_type": "stream",
     "text": [
      "Epoch: 0, Loss: 8.483777046203613, LR: 0.000007\n",
      "Epoch 1\n"
     ]
    },
    {
     "name": "stderr",
     "output_type": "stream",
     "text": [
      "Epoch 1: 100%|██████████| 91/91 [01:17<00:00,  1.18batch/s]\n"
     ]
    },
    {
     "name": "stdout",
     "output_type": "stream",
     "text": [
      "Epoch: 1, Loss: 7.650610446929932, LR: 0.000017\n",
      "Epoch 2\n"
     ]
    },
    {
     "name": "stderr",
     "output_type": "stream",
     "text": [
      "Epoch 2: 100%|██████████| 91/91 [01:18<00:00,  1.15batch/s]\n"
     ]
    },
    {
     "name": "stdout",
     "output_type": "stream",
     "text": [
      "Epoch: 2, Loss: 6.771567344665527, LR: 0.000031\n",
      "Epoch 3\n"
     ]
    },
    {
     "name": "stderr",
     "output_type": "stream",
     "text": [
      "Epoch 3: 100%|██████████| 91/91 [01:24<00:00,  1.08batch/s]\n"
     ]
    },
    {
     "name": "stdout",
     "output_type": "stream",
     "text": [
      "Epoch: 3, Loss: 6.036120891571045, LR: 0.000048\n",
      "Epoch 4\n"
     ]
    },
    {
     "name": "stderr",
     "output_type": "stream",
     "text": [
      "Epoch 4: 100%|██████████| 91/91 [01:38<00:00,  1.08s/batch]\n"
     ]
    },
    {
     "name": "stdout",
     "output_type": "stream",
     "text": [
      "Epoch: 4, Loss: 5.4732208251953125, LR: 0.000066\n",
      "Epoch 5\n"
     ]
    },
    {
     "name": "stderr",
     "output_type": "stream",
     "text": [
      "Epoch 5: 100%|██████████| 91/91 [01:32<00:00,  1.01s/batch]\n"
     ]
    },
    {
     "name": "stdout",
     "output_type": "stream",
     "text": [
      "Epoch: 5, Loss: 5.196531772613525, LR: 0.000082\n",
      "Epoch 6\n"
     ]
    },
    {
     "name": "stderr",
     "output_type": "stream",
     "text": [
      "Epoch 6: 100%|██████████| 91/91 [01:32<00:00,  1.01s/batch]\n"
     ]
    },
    {
     "name": "stdout",
     "output_type": "stream",
     "text": [
      "Epoch: 6, Loss: 4.98106575012207, LR: 0.000093\n",
      "Epoch 7\n"
     ]
    },
    {
     "name": "stderr",
     "output_type": "stream",
     "text": [
      "Epoch 7: 100%|██████████| 91/91 [01:32<00:00,  1.01s/batch]\n"
     ]
    },
    {
     "name": "stdout",
     "output_type": "stream",
     "text": [
      "Epoch: 7, Loss: 4.80803108215332, LR: 0.000099\n",
      "Epoch 8\n"
     ]
    },
    {
     "name": "stderr",
     "output_type": "stream",
     "text": [
      "Epoch 8: 100%|██████████| 91/91 [01:32<00:00,  1.01s/batch]\n"
     ]
    },
    {
     "name": "stdout",
     "output_type": "stream",
     "text": [
      "Epoch: 8, Loss: 4.558777809143066, LR: 0.000100\n",
      "Epoch 9\n"
     ]
    },
    {
     "name": "stderr",
     "output_type": "stream",
     "text": [
      "Epoch 9: 100%|██████████| 91/91 [01:32<00:00,  1.01s/batch]\n"
     ]
    },
    {
     "name": "stdout",
     "output_type": "stream",
     "text": [
      "Epoch: 9, Loss: 4.343409061431885, LR: 0.000098\n",
      "Epoch 10\n"
     ]
    },
    {
     "name": "stderr",
     "output_type": "stream",
     "text": [
      "Epoch 10: 100%|██████████| 91/91 [01:32<00:00,  1.01s/batch]\n"
     ]
    },
    {
     "name": "stdout",
     "output_type": "stream",
     "text": [
      "Epoch: 10, Loss: 4.1233391761779785, LR: 0.000096\n",
      "Epoch 11\n"
     ]
    },
    {
     "name": "stderr",
     "output_type": "stream",
     "text": [
      "Epoch 11: 100%|██████████| 91/91 [01:32<00:00,  1.01s/batch]\n"
     ]
    },
    {
     "name": "stdout",
     "output_type": "stream",
     "text": [
      "Epoch: 11, Loss: 3.92221736907959, LR: 0.000092\n",
      "Epoch 12\n"
     ]
    },
    {
     "name": "stderr",
     "output_type": "stream",
     "text": [
      "Epoch 12: 100%|██████████| 91/91 [01:32<00:00,  1.01s/batch]\n"
     ]
    },
    {
     "name": "stdout",
     "output_type": "stream",
     "text": [
      "Epoch: 12, Loss: 3.5919346809387207, LR: 0.000087\n",
      "Epoch 13\n"
     ]
    },
    {
     "name": "stderr",
     "output_type": "stream",
     "text": [
      "Epoch 13: 100%|██████████| 91/91 [01:32<00:00,  1.01s/batch]\n"
     ]
    },
    {
     "name": "stdout",
     "output_type": "stream",
     "text": [
      "Epoch: 13, Loss: 3.4057118892669678, LR: 0.000082\n",
      "Epoch 14\n"
     ]
    },
    {
     "name": "stderr",
     "output_type": "stream",
     "text": [
      "Epoch 14: 100%|██████████| 91/91 [01:32<00:00,  1.02s/batch]\n"
     ]
    },
    {
     "name": "stdout",
     "output_type": "stream",
     "text": [
      "Epoch: 14, Loss: 3.231689691543579, LR: 0.000075\n",
      "Epoch 15\n"
     ]
    },
    {
     "name": "stderr",
     "output_type": "stream",
     "text": [
      "Epoch 15: 100%|██████████| 91/91 [01:32<00:00,  1.01s/batch]\n"
     ]
    },
    {
     "name": "stdout",
     "output_type": "stream",
     "text": [
      "Epoch: 15, Loss: 3.009216070175171, LR: 0.000068\n",
      "Epoch 16\n"
     ]
    },
    {
     "name": "stderr",
     "output_type": "stream",
     "text": [
      "Epoch 16: 100%|██████████| 91/91 [01:32<00:00,  1.01s/batch]\n"
     ]
    },
    {
     "name": "stdout",
     "output_type": "stream",
     "text": [
      "Epoch: 16, Loss: 2.9581458568573, LR: 0.000060\n",
      "Epoch 17\n"
     ]
    },
    {
     "name": "stderr",
     "output_type": "stream",
     "text": [
      "Epoch 17:  66%|██████▌   | 60/91 [01:01<00:31,  1.03s/batch]\n"
     ]
    },
    {
     "ename": "KeyboardInterrupt",
     "evalue": "",
     "output_type": "error",
     "traceback": [
      "\u001b[0;31m---------------------------------------------------------------------------\u001b[0m",
      "\u001b[0;31mKeyboardInterrupt\u001b[0m                         Traceback (most recent call last)",
      "Cell \u001b[0;32mIn[10], line 29\u001b[0m\n\u001b[1;32m     26\u001b[0m     optimizer\u001b[38;5;241m.\u001b[39mstep()\n\u001b[1;32m     27\u001b[0m     scheduler\u001b[38;5;241m.\u001b[39mstep()\n\u001b[0;32m---> 29\u001b[0m     epoch_loss \u001b[38;5;241m+\u001b[39m\u001b[38;5;241m=\u001b[39m \u001b[43mloss\u001b[49m\u001b[38;5;241;43m.\u001b[39;49m\u001b[43mitem\u001b[49m\u001b[43m(\u001b[49m\u001b[43m)\u001b[49m\n\u001b[1;32m     31\u001b[0m \u001b[38;5;66;03m# Get the avarage loss over all examples in batch\u001b[39;00m\n\u001b[1;32m     32\u001b[0m avg_epoch_loss \u001b[38;5;241m=\u001b[39m epoch_loss \u001b[38;5;241m/\u001b[39m \u001b[38;5;28mlen\u001b[39m(dataloader)\n",
      "\u001b[0;31mKeyboardInterrupt\u001b[0m: "
     ]
    }
   ],
   "source": [
    "from tqdm import tqdm\n",
    "\n",
    "# Example training loop with dataloader\n",
    "num_epochs = 20\n",
    "training_stats = {\n",
    "    'epoch': [],\n",
    "    'train_loss': [],\n",
    "    'learning_rate': []\n",
    "}\n",
    "\n",
    "model.train()\n",
    "\n",
    "for epoch in range(num_epochs):\n",
    "    print(f'Epoch {epoch}')\n",
    "    epoch_loss = 0\n",
    "    for batch in tqdm(dataloader, desc=f'Epoch {epoch}', unit='batch'):\n",
    "        # Move to GPU\n",
    "        input_sequences, target_sequences = batch\n",
    "        input_sequences = input_sequences.to(device)   # To GPU\n",
    "        target_sequences = target_sequences.to(device) # To GPU\n",
    "        optimizer.zero_grad()\n",
    "        output = model(input_sequences)\n",
    "        loss = criterion(output.view(-1, vocab_size), target_sequences.view(-1))\n",
    "        loss.backward()\n",
    "\n",
    "        optimizer.step()\n",
    "        scheduler.step()\n",
    "\n",
    "        epoch_loss += loss.item()\n",
    "\n",
    "    # Get the avarage loss over all examples in batch\n",
    "    avg_epoch_loss = epoch_loss / len(dataloader)\n",
    "    current_lr = scheduler.get_last_lr()[0]\n",
    "\n",
    "    # Update the statistics\n",
    "    training_stats['epoch'].append(epoch)\n",
    "    training_stats['train_loss'].append(avg_epoch_loss)\n",
    "    training_stats['learning_rate'].append(current_lr)\n",
    "\n",
    "        \n",
    "    print(f'Epoch: {epoch}, Loss: {loss.item()}, LR: {current_lr:.6f}')"
   ]
  },
  {
   "cell_type": "code",
   "execution_count": null,
   "metadata": {},
   "outputs": [],
   "source": [
    "### Save the model after training\n",
    "torch.save(model.state_dict(), 'slogan_generator.pth')"
   ]
  },
  {
   "cell_type": "code",
   "execution_count": 11,
   "metadata": {},
   "outputs": [
    {
     "ename": "RuntimeError",
     "evalue": "Error(s) in loading state_dict for TransformerModel:\n\tMissing key(s) in state_dict: \"transformer_decoder.layers.3.self_attn.in_proj_weight\", \"transformer_decoder.layers.3.self_attn.in_proj_bias\", \"transformer_decoder.layers.3.self_attn.out_proj.weight\", \"transformer_decoder.layers.3.self_attn.out_proj.bias\", \"transformer_decoder.layers.3.multihead_attn.in_proj_weight\", \"transformer_decoder.layers.3.multihead_attn.in_proj_bias\", \"transformer_decoder.layers.3.multihead_attn.out_proj.weight\", \"transformer_decoder.layers.3.multihead_attn.out_proj.bias\", \"transformer_decoder.layers.3.linear1.weight\", \"transformer_decoder.layers.3.linear1.bias\", \"transformer_decoder.layers.3.linear2.weight\", \"transformer_decoder.layers.3.linear2.bias\", \"transformer_decoder.layers.3.norm1.weight\", \"transformer_decoder.layers.3.norm1.bias\", \"transformer_decoder.layers.3.norm2.weight\", \"transformer_decoder.layers.3.norm2.bias\", \"transformer_decoder.layers.3.norm3.weight\", \"transformer_decoder.layers.3.norm3.bias\", \"transformer_decoder.layers.4.self_attn.in_proj_weight\", \"transformer_decoder.layers.4.self_attn.in_proj_bias\", \"transformer_decoder.layers.4.self_attn.out_proj.weight\", \"transformer_decoder.layers.4.self_attn.out_proj.bias\", \"transformer_decoder.layers.4.multihead_attn.in_proj_weight\", \"transformer_decoder.layers.4.multihead_attn.in_proj_bias\", \"transformer_decoder.layers.4.multihead_attn.out_proj.weight\", \"transformer_decoder.layers.4.multihead_attn.out_proj.bias\", \"transformer_decoder.layers.4.linear1.weight\", \"transformer_decoder.layers.4.linear1.bias\", \"transformer_decoder.layers.4.linear2.weight\", \"transformer_decoder.layers.4.linear2.bias\", \"transformer_decoder.layers.4.norm1.weight\", \"transformer_decoder.layers.4.norm1.bias\", \"transformer_decoder.layers.4.norm2.weight\", \"transformer_decoder.layers.4.norm2.bias\", \"transformer_decoder.layers.4.norm3.weight\", \"transformer_decoder.layers.4.norm3.bias\", \"transformer_decoder.layers.5.self_attn.in_proj_weight\", \"transformer_decoder.layers.5.self_attn.in_proj_bias\", \"transformer_decoder.layers.5.self_attn.out_proj.weight\", \"transformer_decoder.layers.5.self_attn.out_proj.bias\", \"transformer_decoder.layers.5.multihead_attn.in_proj_weight\", \"transformer_decoder.layers.5.multihead_attn.in_proj_bias\", \"transformer_decoder.layers.5.multihead_attn.out_proj.weight\", \"transformer_decoder.layers.5.multihead_attn.out_proj.bias\", \"transformer_decoder.layers.5.linear1.weight\", \"transformer_decoder.layers.5.linear1.bias\", \"transformer_decoder.layers.5.linear2.weight\", \"transformer_decoder.layers.5.linear2.bias\", \"transformer_decoder.layers.5.norm1.weight\", \"transformer_decoder.layers.5.norm1.bias\", \"transformer_decoder.layers.5.norm2.weight\", \"transformer_decoder.layers.5.norm2.bias\", \"transformer_decoder.layers.5.norm3.weight\", \"transformer_decoder.layers.5.norm3.bias\", \"transformer_decoder.layers.6.self_attn.in_proj_weight\", \"transformer_decoder.layers.6.self_attn.in_proj_bias\", \"transformer_decoder.layers.6.self_attn.out_proj.weight\", \"transformer_decoder.layers.6.self_attn.out_proj.bias\", \"transformer_decoder.layers.6.multihead_attn.in_proj_weight\", \"transformer_decoder.layers.6.multihead_attn.in_proj_bias\", \"transformer_decoder.layers.6.multihead_attn.out_proj.weight\", \"transformer_decoder.layers.6.multihead_attn.out_proj.bias\", \"transformer_decoder.layers.6.linear1.weight\", \"transformer_decoder.layers.6.linear1.bias\", \"transformer_decoder.layers.6.linear2.weight\", \"transformer_decoder.layers.6.linear2.bias\", \"transformer_decoder.layers.6.norm1.weight\", \"transformer_decoder.layers.6.norm1.bias\", \"transformer_decoder.layers.6.norm2.weight\", \"transformer_decoder.layers.6.norm2.bias\", \"transformer_decoder.layers.6.norm3.weight\", \"transformer_decoder.layers.6.norm3.bias\", \"transformer_decoder.layers.7.self_attn.in_proj_weight\", \"transformer_decoder.layers.7.self_attn.in_proj_bias\", \"transformer_decoder.layers.7.self_attn.out_proj.weight\", \"transformer_decoder.layers.7.self_attn.out_proj.bias\", \"transformer_decoder.layers.7.multihead_attn.in_proj_weight\", \"transformer_decoder.layers.7.multihead_attn.in_proj_bias\", \"transformer_decoder.layers.7.multihead_attn.out_proj.weight\", \"transformer_decoder.layers.7.multihead_attn.out_proj.bias\", \"transformer_decoder.layers.7.linear1.weight\", \"transformer_decoder.layers.7.linear1.bias\", \"transformer_decoder.layers.7.linear2.weight\", \"transformer_decoder.layers.7.linear2.bias\", \"transformer_decoder.layers.7.norm1.weight\", \"transformer_decoder.layers.7.norm1.bias\", \"transformer_decoder.layers.7.norm2.weight\", \"transformer_decoder.layers.7.norm2.bias\", \"transformer_decoder.layers.7.norm3.weight\", \"transformer_decoder.layers.7.norm3.bias\". \n\tsize mismatch for embedding.weight: copying a param with shape torch.Size([30522, 384]) from checkpoint, the shape in current model is torch.Size([30522, 512]).\n\tsize mismatch for transformer_decoder_layer.self_attn.in_proj_weight: copying a param with shape torch.Size([1152, 384]) from checkpoint, the shape in current model is torch.Size([1536, 512]).\n\tsize mismatch for transformer_decoder_layer.self_attn.in_proj_bias: copying a param with shape torch.Size([1152]) from checkpoint, the shape in current model is torch.Size([1536]).\n\tsize mismatch for transformer_decoder_layer.self_attn.out_proj.weight: copying a param with shape torch.Size([384, 384]) from checkpoint, the shape in current model is torch.Size([512, 512]).\n\tsize mismatch for transformer_decoder_layer.self_attn.out_proj.bias: copying a param with shape torch.Size([384]) from checkpoint, the shape in current model is torch.Size([512]).\n\tsize mismatch for transformer_decoder_layer.multihead_attn.in_proj_weight: copying a param with shape torch.Size([1152, 384]) from checkpoint, the shape in current model is torch.Size([1536, 512]).\n\tsize mismatch for transformer_decoder_layer.multihead_attn.in_proj_bias: copying a param with shape torch.Size([1152]) from checkpoint, the shape in current model is torch.Size([1536]).\n\tsize mismatch for transformer_decoder_layer.multihead_attn.out_proj.weight: copying a param with shape torch.Size([384, 384]) from checkpoint, the shape in current model is torch.Size([512, 512]).\n\tsize mismatch for transformer_decoder_layer.multihead_attn.out_proj.bias: copying a param with shape torch.Size([384]) from checkpoint, the shape in current model is torch.Size([512]).\n\tsize mismatch for transformer_decoder_layer.linear1.weight: copying a param with shape torch.Size([2048, 384]) from checkpoint, the shape in current model is torch.Size([4096, 512]).\n\tsize mismatch for transformer_decoder_layer.linear1.bias: copying a param with shape torch.Size([2048]) from checkpoint, the shape in current model is torch.Size([4096]).\n\tsize mismatch for transformer_decoder_layer.linear2.weight: copying a param with shape torch.Size([384, 2048]) from checkpoint, the shape in current model is torch.Size([512, 4096]).\n\tsize mismatch for transformer_decoder_layer.linear2.bias: copying a param with shape torch.Size([384]) from checkpoint, the shape in current model is torch.Size([512]).\n\tsize mismatch for transformer_decoder_layer.norm1.weight: copying a param with shape torch.Size([384]) from checkpoint, the shape in current model is torch.Size([512]).\n\tsize mismatch for transformer_decoder_layer.norm1.bias: copying a param with shape torch.Size([384]) from checkpoint, the shape in current model is torch.Size([512]).\n\tsize mismatch for transformer_decoder_layer.norm2.weight: copying a param with shape torch.Size([384]) from checkpoint, the shape in current model is torch.Size([512]).\n\tsize mismatch for transformer_decoder_layer.norm2.bias: copying a param with shape torch.Size([384]) from checkpoint, the shape in current model is torch.Size([512]).\n\tsize mismatch for transformer_decoder_layer.norm3.weight: copying a param with shape torch.Size([384]) from checkpoint, the shape in current model is torch.Size([512]).\n\tsize mismatch for transformer_decoder_layer.norm3.bias: copying a param with shape torch.Size([384]) from checkpoint, the shape in current model is torch.Size([512]).\n\tsize mismatch for transformer_decoder.layers.0.self_attn.in_proj_weight: copying a param with shape torch.Size([1152, 384]) from checkpoint, the shape in current model is torch.Size([1536, 512]).\n\tsize mismatch for transformer_decoder.layers.0.self_attn.in_proj_bias: copying a param with shape torch.Size([1152]) from checkpoint, the shape in current model is torch.Size([1536]).\n\tsize mismatch for transformer_decoder.layers.0.self_attn.out_proj.weight: copying a param with shape torch.Size([384, 384]) from checkpoint, the shape in current model is torch.Size([512, 512]).\n\tsize mismatch for transformer_decoder.layers.0.self_attn.out_proj.bias: copying a param with shape torch.Size([384]) from checkpoint, the shape in current model is torch.Size([512]).\n\tsize mismatch for transformer_decoder.layers.0.multihead_attn.in_proj_weight: copying a param with shape torch.Size([1152, 384]) from checkpoint, the shape in current model is torch.Size([1536, 512]).\n\tsize mismatch for transformer_decoder.layers.0.multihead_attn.in_proj_bias: copying a param with shape torch.Size([1152]) from checkpoint, the shape in current model is torch.Size([1536]).\n\tsize mismatch for transformer_decoder.layers.0.multihead_attn.out_proj.weight: copying a param with shape torch.Size([384, 384]) from checkpoint, the shape in current model is torch.Size([512, 512]).\n\tsize mismatch for transformer_decoder.layers.0.multihead_attn.out_proj.bias: copying a param with shape torch.Size([384]) from checkpoint, the shape in current model is torch.Size([512]).\n\tsize mismatch for transformer_decoder.layers.0.linear1.weight: copying a param with shape torch.Size([2048, 384]) from checkpoint, the shape in current model is torch.Size([4096, 512]).\n\tsize mismatch for transformer_decoder.layers.0.linear1.bias: copying a param with shape torch.Size([2048]) from checkpoint, the shape in current model is torch.Size([4096]).\n\tsize mismatch for transformer_decoder.layers.0.linear2.weight: copying a param with shape torch.Size([384, 2048]) from checkpoint, the shape in current model is torch.Size([512, 4096]).\n\tsize mismatch for transformer_decoder.layers.0.linear2.bias: copying a param with shape torch.Size([384]) from checkpoint, the shape in current model is torch.Size([512]).\n\tsize mismatch for transformer_decoder.layers.0.norm1.weight: copying a param with shape torch.Size([384]) from checkpoint, the shape in current model is torch.Size([512]).\n\tsize mismatch for transformer_decoder.layers.0.norm1.bias: copying a param with shape torch.Size([384]) from checkpoint, the shape in current model is torch.Size([512]).\n\tsize mismatch for transformer_decoder.layers.0.norm2.weight: copying a param with shape torch.Size([384]) from checkpoint, the shape in current model is torch.Size([512]).\n\tsize mismatch for transformer_decoder.layers.0.norm2.bias: copying a param with shape torch.Size([384]) from checkpoint, the shape in current model is torch.Size([512]).\n\tsize mismatch for transformer_decoder.layers.0.norm3.weight: copying a param with shape torch.Size([384]) from checkpoint, the shape in current model is torch.Size([512]).\n\tsize mismatch for transformer_decoder.layers.0.norm3.bias: copying a param with shape torch.Size([384]) from checkpoint, the shape in current model is torch.Size([512]).\n\tsize mismatch for transformer_decoder.layers.1.self_attn.in_proj_weight: copying a param with shape torch.Size([1152, 384]) from checkpoint, the shape in current model is torch.Size([1536, 512]).\n\tsize mismatch for transformer_decoder.layers.1.self_attn.in_proj_bias: copying a param with shape torch.Size([1152]) from checkpoint, the shape in current model is torch.Size([1536]).\n\tsize mismatch for transformer_decoder.layers.1.self_attn.out_proj.weight: copying a param with shape torch.Size([384, 384]) from checkpoint, the shape in current model is torch.Size([512, 512]).\n\tsize mismatch for transformer_decoder.layers.1.self_attn.out_proj.bias: copying a param with shape torch.Size([384]) from checkpoint, the shape in current model is torch.Size([512]).\n\tsize mismatch for transformer_decoder.layers.1.multihead_attn.in_proj_weight: copying a param with shape torch.Size([1152, 384]) from checkpoint, the shape in current model is torch.Size([1536, 512]).\n\tsize mismatch for transformer_decoder.layers.1.multihead_attn.in_proj_bias: copying a param with shape torch.Size([1152]) from checkpoint, the shape in current model is torch.Size([1536]).\n\tsize mismatch for transformer_decoder.layers.1.multihead_attn.out_proj.weight: copying a param with shape torch.Size([384, 384]) from checkpoint, the shape in current model is torch.Size([512, 512]).\n\tsize mismatch for transformer_decoder.layers.1.multihead_attn.out_proj.bias: copying a param with shape torch.Size([384]) from checkpoint, the shape in current model is torch.Size([512]).\n\tsize mismatch for transformer_decoder.layers.1.linear1.weight: copying a param with shape torch.Size([2048, 384]) from checkpoint, the shape in current model is torch.Size([4096, 512]).\n\tsize mismatch for transformer_decoder.layers.1.linear1.bias: copying a param with shape torch.Size([2048]) from checkpoint, the shape in current model is torch.Size([4096]).\n\tsize mismatch for transformer_decoder.layers.1.linear2.weight: copying a param with shape torch.Size([384, 2048]) from checkpoint, the shape in current model is torch.Size([512, 4096]).\n\tsize mismatch for transformer_decoder.layers.1.linear2.bias: copying a param with shape torch.Size([384]) from checkpoint, the shape in current model is torch.Size([512]).\n\tsize mismatch for transformer_decoder.layers.1.norm1.weight: copying a param with shape torch.Size([384]) from checkpoint, the shape in current model is torch.Size([512]).\n\tsize mismatch for transformer_decoder.layers.1.norm1.bias: copying a param with shape torch.Size([384]) from checkpoint, the shape in current model is torch.Size([512]).\n\tsize mismatch for transformer_decoder.layers.1.norm2.weight: copying a param with shape torch.Size([384]) from checkpoint, the shape in current model is torch.Size([512]).\n\tsize mismatch for transformer_decoder.layers.1.norm2.bias: copying a param with shape torch.Size([384]) from checkpoint, the shape in current model is torch.Size([512]).\n\tsize mismatch for transformer_decoder.layers.1.norm3.weight: copying a param with shape torch.Size([384]) from checkpoint, the shape in current model is torch.Size([512]).\n\tsize mismatch for transformer_decoder.layers.1.norm3.bias: copying a param with shape torch.Size([384]) from checkpoint, the shape in current model is torch.Size([512]).\n\tsize mismatch for transformer_decoder.layers.2.self_attn.in_proj_weight: copying a param with shape torch.Size([1152, 384]) from checkpoint, the shape in current model is torch.Size([1536, 512]).\n\tsize mismatch for transformer_decoder.layers.2.self_attn.in_proj_bias: copying a param with shape torch.Size([1152]) from checkpoint, the shape in current model is torch.Size([1536]).\n\tsize mismatch for transformer_decoder.layers.2.self_attn.out_proj.weight: copying a param with shape torch.Size([384, 384]) from checkpoint, the shape in current model is torch.Size([512, 512]).\n\tsize mismatch for transformer_decoder.layers.2.self_attn.out_proj.bias: copying a param with shape torch.Size([384]) from checkpoint, the shape in current model is torch.Size([512]).\n\tsize mismatch for transformer_decoder.layers.2.multihead_attn.in_proj_weight: copying a param with shape torch.Size([1152, 384]) from checkpoint, the shape in current model is torch.Size([1536, 512]).\n\tsize mismatch for transformer_decoder.layers.2.multihead_attn.in_proj_bias: copying a param with shape torch.Size([1152]) from checkpoint, the shape in current model is torch.Size([1536]).\n\tsize mismatch for transformer_decoder.layers.2.multihead_attn.out_proj.weight: copying a param with shape torch.Size([384, 384]) from checkpoint, the shape in current model is torch.Size([512, 512]).\n\tsize mismatch for transformer_decoder.layers.2.multihead_attn.out_proj.bias: copying a param with shape torch.Size([384]) from checkpoint, the shape in current model is torch.Size([512]).\n\tsize mismatch for transformer_decoder.layers.2.linear1.weight: copying a param with shape torch.Size([2048, 384]) from checkpoint, the shape in current model is torch.Size([4096, 512]).\n\tsize mismatch for transformer_decoder.layers.2.linear1.bias: copying a param with shape torch.Size([2048]) from checkpoint, the shape in current model is torch.Size([4096]).\n\tsize mismatch for transformer_decoder.layers.2.linear2.weight: copying a param with shape torch.Size([384, 2048]) from checkpoint, the shape in current model is torch.Size([512, 4096]).\n\tsize mismatch for transformer_decoder.layers.2.linear2.bias: copying a param with shape torch.Size([384]) from checkpoint, the shape in current model is torch.Size([512]).\n\tsize mismatch for transformer_decoder.layers.2.norm1.weight: copying a param with shape torch.Size([384]) from checkpoint, the shape in current model is torch.Size([512]).\n\tsize mismatch for transformer_decoder.layers.2.norm1.bias: copying a param with shape torch.Size([384]) from checkpoint, the shape in current model is torch.Size([512]).\n\tsize mismatch for transformer_decoder.layers.2.norm2.weight: copying a param with shape torch.Size([384]) from checkpoint, the shape in current model is torch.Size([512]).\n\tsize mismatch for transformer_decoder.layers.2.norm2.bias: copying a param with shape torch.Size([384]) from checkpoint, the shape in current model is torch.Size([512]).\n\tsize mismatch for transformer_decoder.layers.2.norm3.weight: copying a param with shape torch.Size([384]) from checkpoint, the shape in current model is torch.Size([512]).\n\tsize mismatch for transformer_decoder.layers.2.norm3.bias: copying a param with shape torch.Size([384]) from checkpoint, the shape in current model is torch.Size([512]).\n\tsize mismatch for fc_out.weight: copying a param with shape torch.Size([30522, 384]) from checkpoint, the shape in current model is torch.Size([30522, 512]).",
     "output_type": "error",
     "traceback": [
      "\u001b[0;31m---------------------------------------------------------------------------\u001b[0m",
      "\u001b[0;31mRuntimeError\u001b[0m                              Traceback (most recent call last)",
      "Cell \u001b[0;32mIn[11], line 7\u001b[0m\n\u001b[1;32m      5\u001b[0m \u001b[38;5;66;03m# Load the weight into the model\u001b[39;00m\n\u001b[1;32m      6\u001b[0m model_dict \u001b[38;5;241m=\u001b[39m torch\u001b[38;5;241m.\u001b[39mload(\u001b[38;5;124m'\u001b[39m\u001b[38;5;124m/home/pokji/Desktop/for project/slogan_generator.pth\u001b[39m\u001b[38;5;124m'\u001b[39m, weights_only\u001b[38;5;241m=\u001b[39m\u001b[38;5;28;01mTrue\u001b[39;00m)   \n\u001b[0;32m----> 7\u001b[0m \u001b[43mmodel\u001b[49m\u001b[38;5;241;43m.\u001b[39;49m\u001b[43mload_state_dict\u001b[49m\u001b[43m(\u001b[49m\u001b[43mmodel_dict\u001b[49m\u001b[43m)\u001b[49m   \n\u001b[1;32m      9\u001b[0m \u001b[38;5;28msum\u001b[39m(p\u001b[38;5;241m.\u001b[39mnumel() \u001b[38;5;28;01mfor\u001b[39;00m p \u001b[38;5;129;01min\u001b[39;00m model\u001b[38;5;241m.\u001b[39mparameters())\n",
      "File \u001b[0;32m~/anaconda3/envs/cuda_pytorch_dev/lib/python3.8/site-packages/torch/nn/modules/module.py:2215\u001b[0m, in \u001b[0;36mModule.load_state_dict\u001b[0;34m(self, state_dict, strict, assign)\u001b[0m\n\u001b[1;32m   2210\u001b[0m         error_msgs\u001b[38;5;241m.\u001b[39minsert(\n\u001b[1;32m   2211\u001b[0m             \u001b[38;5;241m0\u001b[39m, \u001b[38;5;124m'\u001b[39m\u001b[38;5;124mMissing key(s) in state_dict: \u001b[39m\u001b[38;5;132;01m{}\u001b[39;00m\u001b[38;5;124m. \u001b[39m\u001b[38;5;124m'\u001b[39m\u001b[38;5;241m.\u001b[39mformat(\n\u001b[1;32m   2212\u001b[0m                 \u001b[38;5;124m'\u001b[39m\u001b[38;5;124m, \u001b[39m\u001b[38;5;124m'\u001b[39m\u001b[38;5;241m.\u001b[39mjoin(\u001b[38;5;124mf\u001b[39m\u001b[38;5;124m'\u001b[39m\u001b[38;5;124m\"\u001b[39m\u001b[38;5;132;01m{\u001b[39;00mk\u001b[38;5;132;01m}\u001b[39;00m\u001b[38;5;124m\"\u001b[39m\u001b[38;5;124m'\u001b[39m \u001b[38;5;28;01mfor\u001b[39;00m k \u001b[38;5;129;01min\u001b[39;00m missing_keys)))\n\u001b[1;32m   2214\u001b[0m \u001b[38;5;28;01mif\u001b[39;00m \u001b[38;5;28mlen\u001b[39m(error_msgs) \u001b[38;5;241m>\u001b[39m \u001b[38;5;241m0\u001b[39m:\n\u001b[0;32m-> 2215\u001b[0m     \u001b[38;5;28;01mraise\u001b[39;00m \u001b[38;5;167;01mRuntimeError\u001b[39;00m(\u001b[38;5;124m'\u001b[39m\u001b[38;5;124mError(s) in loading state_dict for \u001b[39m\u001b[38;5;132;01m{}\u001b[39;00m\u001b[38;5;124m:\u001b[39m\u001b[38;5;130;01m\\n\u001b[39;00m\u001b[38;5;130;01m\\t\u001b[39;00m\u001b[38;5;132;01m{}\u001b[39;00m\u001b[38;5;124m'\u001b[39m\u001b[38;5;241m.\u001b[39mformat(\n\u001b[1;32m   2216\u001b[0m                        \u001b[38;5;28mself\u001b[39m\u001b[38;5;241m.\u001b[39m\u001b[38;5;18m__class__\u001b[39m\u001b[38;5;241m.\u001b[39m\u001b[38;5;18m__name__\u001b[39m, \u001b[38;5;124m\"\u001b[39m\u001b[38;5;130;01m\\n\u001b[39;00m\u001b[38;5;130;01m\\t\u001b[39;00m\u001b[38;5;124m\"\u001b[39m\u001b[38;5;241m.\u001b[39mjoin(error_msgs)))\n\u001b[1;32m   2217\u001b[0m \u001b[38;5;28;01mreturn\u001b[39;00m _IncompatibleKeys(missing_keys, unexpected_keys)\n",
      "\u001b[0;31mRuntimeError\u001b[0m: Error(s) in loading state_dict for TransformerModel:\n\tMissing key(s) in state_dict: \"transformer_decoder.layers.3.self_attn.in_proj_weight\", \"transformer_decoder.layers.3.self_attn.in_proj_bias\", \"transformer_decoder.layers.3.self_attn.out_proj.weight\", \"transformer_decoder.layers.3.self_attn.out_proj.bias\", \"transformer_decoder.layers.3.multihead_attn.in_proj_weight\", \"transformer_decoder.layers.3.multihead_attn.in_proj_bias\", \"transformer_decoder.layers.3.multihead_attn.out_proj.weight\", \"transformer_decoder.layers.3.multihead_attn.out_proj.bias\", \"transformer_decoder.layers.3.linear1.weight\", \"transformer_decoder.layers.3.linear1.bias\", \"transformer_decoder.layers.3.linear2.weight\", \"transformer_decoder.layers.3.linear2.bias\", \"transformer_decoder.layers.3.norm1.weight\", \"transformer_decoder.layers.3.norm1.bias\", \"transformer_decoder.layers.3.norm2.weight\", \"transformer_decoder.layers.3.norm2.bias\", \"transformer_decoder.layers.3.norm3.weight\", \"transformer_decoder.layers.3.norm3.bias\", \"transformer_decoder.layers.4.self_attn.in_proj_weight\", \"transformer_decoder.layers.4.self_attn.in_proj_bias\", \"transformer_decoder.layers.4.self_attn.out_proj.weight\", \"transformer_decoder.layers.4.self_attn.out_proj.bias\", \"transformer_decoder.layers.4.multihead_attn.in_proj_weight\", \"transformer_decoder.layers.4.multihead_attn.in_proj_bias\", \"transformer_decoder.layers.4.multihead_attn.out_proj.weight\", \"transformer_decoder.layers.4.multihead_attn.out_proj.bias\", \"transformer_decoder.layers.4.linear1.weight\", \"transformer_decoder.layers.4.linear1.bias\", \"transformer_decoder.layers.4.linear2.weight\", \"transformer_decoder.layers.4.linear2.bias\", \"transformer_decoder.layers.4.norm1.weight\", \"transformer_decoder.layers.4.norm1.bias\", \"transformer_decoder.layers.4.norm2.weight\", \"transformer_decoder.layers.4.norm2.bias\", \"transformer_decoder.layers.4.norm3.weight\", \"transformer_decoder.layers.4.norm3.bias\", \"transformer_decoder.layers.5.self_attn.in_proj_weight\", \"transformer_decoder.layers.5.self_attn.in_proj_bias\", \"transformer_decoder.layers.5.self_attn.out_proj.weight\", \"transformer_decoder.layers.5.self_attn.out_proj.bias\", \"transformer_decoder.layers.5.multihead_attn.in_proj_weight\", \"transformer_decoder.layers.5.multihead_attn.in_proj_bias\", \"transformer_decoder.layers.5.multihead_attn.out_proj.weight\", \"transformer_decoder.layers.5.multihead_attn.out_proj.bias\", \"transformer_decoder.layers.5.linear1.weight\", \"transformer_decoder.layers.5.linear1.bias\", \"transformer_decoder.layers.5.linear2.weight\", \"transformer_decoder.layers.5.linear2.bias\", \"transformer_decoder.layers.5.norm1.weight\", \"transformer_decoder.layers.5.norm1.bias\", \"transformer_decoder.layers.5.norm2.weight\", \"transformer_decoder.layers.5.norm2.bias\", \"transformer_decoder.layers.5.norm3.weight\", \"transformer_decoder.layers.5.norm3.bias\", \"transformer_decoder.layers.6.self_attn.in_proj_weight\", \"transformer_decoder.layers.6.self_attn.in_proj_bias\", \"transformer_decoder.layers.6.self_attn.out_proj.weight\", \"transformer_decoder.layers.6.self_attn.out_proj.bias\", \"transformer_decoder.layers.6.multihead_attn.in_proj_weight\", \"transformer_decoder.layers.6.multihead_attn.in_proj_bias\", \"transformer_decoder.layers.6.multihead_attn.out_proj.weight\", \"transformer_decoder.layers.6.multihead_attn.out_proj.bias\", \"transformer_decoder.layers.6.linear1.weight\", \"transformer_decoder.layers.6.linear1.bias\", \"transformer_decoder.layers.6.linear2.weight\", \"transformer_decoder.layers.6.linear2.bias\", \"transformer_decoder.layers.6.norm1.weight\", \"transformer_decoder.layers.6.norm1.bias\", \"transformer_decoder.layers.6.norm2.weight\", \"transformer_decoder.layers.6.norm2.bias\", \"transformer_decoder.layers.6.norm3.weight\", \"transformer_decoder.layers.6.norm3.bias\", \"transformer_decoder.layers.7.self_attn.in_proj_weight\", \"transformer_decoder.layers.7.self_attn.in_proj_bias\", \"transformer_decoder.layers.7.self_attn.out_proj.weight\", \"transformer_decoder.layers.7.self_attn.out_proj.bias\", \"transformer_decoder.layers.7.multihead_attn.in_proj_weight\", \"transformer_decoder.layers.7.multihead_attn.in_proj_bias\", \"transformer_decoder.layers.7.multihead_attn.out_proj.weight\", \"transformer_decoder.layers.7.multihead_attn.out_proj.bias\", \"transformer_decoder.layers.7.linear1.weight\", \"transformer_decoder.layers.7.linear1.bias\", \"transformer_decoder.layers.7.linear2.weight\", \"transformer_decoder.layers.7.linear2.bias\", \"transformer_decoder.layers.7.norm1.weight\", \"transformer_decoder.layers.7.norm1.bias\", \"transformer_decoder.layers.7.norm2.weight\", \"transformer_decoder.layers.7.norm2.bias\", \"transformer_decoder.layers.7.norm3.weight\", \"transformer_decoder.layers.7.norm3.bias\". \n\tsize mismatch for embedding.weight: copying a param with shape torch.Size([30522, 384]) from checkpoint, the shape in current model is torch.Size([30522, 512]).\n\tsize mismatch for transformer_decoder_layer.self_attn.in_proj_weight: copying a param with shape torch.Size([1152, 384]) from checkpoint, the shape in current model is torch.Size([1536, 512]).\n\tsize mismatch for transformer_decoder_layer.self_attn.in_proj_bias: copying a param with shape torch.Size([1152]) from checkpoint, the shape in current model is torch.Size([1536]).\n\tsize mismatch for transformer_decoder_layer.self_attn.out_proj.weight: copying a param with shape torch.Size([384, 384]) from checkpoint, the shape in current model is torch.Size([512, 512]).\n\tsize mismatch for transformer_decoder_layer.self_attn.out_proj.bias: copying a param with shape torch.Size([384]) from checkpoint, the shape in current model is torch.Size([512]).\n\tsize mismatch for transformer_decoder_layer.multihead_attn.in_proj_weight: copying a param with shape torch.Size([1152, 384]) from checkpoint, the shape in current model is torch.Size([1536, 512]).\n\tsize mismatch for transformer_decoder_layer.multihead_attn.in_proj_bias: copying a param with shape torch.Size([1152]) from checkpoint, the shape in current model is torch.Size([1536]).\n\tsize mismatch for transformer_decoder_layer.multihead_attn.out_proj.weight: copying a param with shape torch.Size([384, 384]) from checkpoint, the shape in current model is torch.Size([512, 512]).\n\tsize mismatch for transformer_decoder_layer.multihead_attn.out_proj.bias: copying a param with shape torch.Size([384]) from checkpoint, the shape in current model is torch.Size([512]).\n\tsize mismatch for transformer_decoder_layer.linear1.weight: copying a param with shape torch.Size([2048, 384]) from checkpoint, the shape in current model is torch.Size([4096, 512]).\n\tsize mismatch for transformer_decoder_layer.linear1.bias: copying a param with shape torch.Size([2048]) from checkpoint, the shape in current model is torch.Size([4096]).\n\tsize mismatch for transformer_decoder_layer.linear2.weight: copying a param with shape torch.Size([384, 2048]) from checkpoint, the shape in current model is torch.Size([512, 4096]).\n\tsize mismatch for transformer_decoder_layer.linear2.bias: copying a param with shape torch.Size([384]) from checkpoint, the shape in current model is torch.Size([512]).\n\tsize mismatch for transformer_decoder_layer.norm1.weight: copying a param with shape torch.Size([384]) from checkpoint, the shape in current model is torch.Size([512]).\n\tsize mismatch for transformer_decoder_layer.norm1.bias: copying a param with shape torch.Size([384]) from checkpoint, the shape in current model is torch.Size([512]).\n\tsize mismatch for transformer_decoder_layer.norm2.weight: copying a param with shape torch.Size([384]) from checkpoint, the shape in current model is torch.Size([512]).\n\tsize mismatch for transformer_decoder_layer.norm2.bias: copying a param with shape torch.Size([384]) from checkpoint, the shape in current model is torch.Size([512]).\n\tsize mismatch for transformer_decoder_layer.norm3.weight: copying a param with shape torch.Size([384]) from checkpoint, the shape in current model is torch.Size([512]).\n\tsize mismatch for transformer_decoder_layer.norm3.bias: copying a param with shape torch.Size([384]) from checkpoint, the shape in current model is torch.Size([512]).\n\tsize mismatch for transformer_decoder.layers.0.self_attn.in_proj_weight: copying a param with shape torch.Size([1152, 384]) from checkpoint, the shape in current model is torch.Size([1536, 512]).\n\tsize mismatch for transformer_decoder.layers.0.self_attn.in_proj_bias: copying a param with shape torch.Size([1152]) from checkpoint, the shape in current model is torch.Size([1536]).\n\tsize mismatch for transformer_decoder.layers.0.self_attn.out_proj.weight: copying a param with shape torch.Size([384, 384]) from checkpoint, the shape in current model is torch.Size([512, 512]).\n\tsize mismatch for transformer_decoder.layers.0.self_attn.out_proj.bias: copying a param with shape torch.Size([384]) from checkpoint, the shape in current model is torch.Size([512]).\n\tsize mismatch for transformer_decoder.layers.0.multihead_attn.in_proj_weight: copying a param with shape torch.Size([1152, 384]) from checkpoint, the shape in current model is torch.Size([1536, 512]).\n\tsize mismatch for transformer_decoder.layers.0.multihead_attn.in_proj_bias: copying a param with shape torch.Size([1152]) from checkpoint, the shape in current model is torch.Size([1536]).\n\tsize mismatch for transformer_decoder.layers.0.multihead_attn.out_proj.weight: copying a param with shape torch.Size([384, 384]) from checkpoint, the shape in current model is torch.Size([512, 512]).\n\tsize mismatch for transformer_decoder.layers.0.multihead_attn.out_proj.bias: copying a param with shape torch.Size([384]) from checkpoint, the shape in current model is torch.Size([512]).\n\tsize mismatch for transformer_decoder.layers.0.linear1.weight: copying a param with shape torch.Size([2048, 384]) from checkpoint, the shape in current model is torch.Size([4096, 512]).\n\tsize mismatch for transformer_decoder.layers.0.linear1.bias: copying a param with shape torch.Size([2048]) from checkpoint, the shape in current model is torch.Size([4096]).\n\tsize mismatch for transformer_decoder.layers.0.linear2.weight: copying a param with shape torch.Size([384, 2048]) from checkpoint, the shape in current model is torch.Size([512, 4096]).\n\tsize mismatch for transformer_decoder.layers.0.linear2.bias: copying a param with shape torch.Size([384]) from checkpoint, the shape in current model is torch.Size([512]).\n\tsize mismatch for transformer_decoder.layers.0.norm1.weight: copying a param with shape torch.Size([384]) from checkpoint, the shape in current model is torch.Size([512]).\n\tsize mismatch for transformer_decoder.layers.0.norm1.bias: copying a param with shape torch.Size([384]) from checkpoint, the shape in current model is torch.Size([512]).\n\tsize mismatch for transformer_decoder.layers.0.norm2.weight: copying a param with shape torch.Size([384]) from checkpoint, the shape in current model is torch.Size([512]).\n\tsize mismatch for transformer_decoder.layers.0.norm2.bias: copying a param with shape torch.Size([384]) from checkpoint, the shape in current model is torch.Size([512]).\n\tsize mismatch for transformer_decoder.layers.0.norm3.weight: copying a param with shape torch.Size([384]) from checkpoint, the shape in current model is torch.Size([512]).\n\tsize mismatch for transformer_decoder.layers.0.norm3.bias: copying a param with shape torch.Size([384]) from checkpoint, the shape in current model is torch.Size([512]).\n\tsize mismatch for transformer_decoder.layers.1.self_attn.in_proj_weight: copying a param with shape torch.Size([1152, 384]) from checkpoint, the shape in current model is torch.Size([1536, 512]).\n\tsize mismatch for transformer_decoder.layers.1.self_attn.in_proj_bias: copying a param with shape torch.Size([1152]) from checkpoint, the shape in current model is torch.Size([1536]).\n\tsize mismatch for transformer_decoder.layers.1.self_attn.out_proj.weight: copying a param with shape torch.Size([384, 384]) from checkpoint, the shape in current model is torch.Size([512, 512]).\n\tsize mismatch for transformer_decoder.layers.1.self_attn.out_proj.bias: copying a param with shape torch.Size([384]) from checkpoint, the shape in current model is torch.Size([512]).\n\tsize mismatch for transformer_decoder.layers.1.multihead_attn.in_proj_weight: copying a param with shape torch.Size([1152, 384]) from checkpoint, the shape in current model is torch.Size([1536, 512]).\n\tsize mismatch for transformer_decoder.layers.1.multihead_attn.in_proj_bias: copying a param with shape torch.Size([1152]) from checkpoint, the shape in current model is torch.Size([1536]).\n\tsize mismatch for transformer_decoder.layers.1.multihead_attn.out_proj.weight: copying a param with shape torch.Size([384, 384]) from checkpoint, the shape in current model is torch.Size([512, 512]).\n\tsize mismatch for transformer_decoder.layers.1.multihead_attn.out_proj.bias: copying a param with shape torch.Size([384]) from checkpoint, the shape in current model is torch.Size([512]).\n\tsize mismatch for transformer_decoder.layers.1.linear1.weight: copying a param with shape torch.Size([2048, 384]) from checkpoint, the shape in current model is torch.Size([4096, 512]).\n\tsize mismatch for transformer_decoder.layers.1.linear1.bias: copying a param with shape torch.Size([2048]) from checkpoint, the shape in current model is torch.Size([4096]).\n\tsize mismatch for transformer_decoder.layers.1.linear2.weight: copying a param with shape torch.Size([384, 2048]) from checkpoint, the shape in current model is torch.Size([512, 4096]).\n\tsize mismatch for transformer_decoder.layers.1.linear2.bias: copying a param with shape torch.Size([384]) from checkpoint, the shape in current model is torch.Size([512]).\n\tsize mismatch for transformer_decoder.layers.1.norm1.weight: copying a param with shape torch.Size([384]) from checkpoint, the shape in current model is torch.Size([512]).\n\tsize mismatch for transformer_decoder.layers.1.norm1.bias: copying a param with shape torch.Size([384]) from checkpoint, the shape in current model is torch.Size([512]).\n\tsize mismatch for transformer_decoder.layers.1.norm2.weight: copying a param with shape torch.Size([384]) from checkpoint, the shape in current model is torch.Size([512]).\n\tsize mismatch for transformer_decoder.layers.1.norm2.bias: copying a param with shape torch.Size([384]) from checkpoint, the shape in current model is torch.Size([512]).\n\tsize mismatch for transformer_decoder.layers.1.norm3.weight: copying a param with shape torch.Size([384]) from checkpoint, the shape in current model is torch.Size([512]).\n\tsize mismatch for transformer_decoder.layers.1.norm3.bias: copying a param with shape torch.Size([384]) from checkpoint, the shape in current model is torch.Size([512]).\n\tsize mismatch for transformer_decoder.layers.2.self_attn.in_proj_weight: copying a param with shape torch.Size([1152, 384]) from checkpoint, the shape in current model is torch.Size([1536, 512]).\n\tsize mismatch for transformer_decoder.layers.2.self_attn.in_proj_bias: copying a param with shape torch.Size([1152]) from checkpoint, the shape in current model is torch.Size([1536]).\n\tsize mismatch for transformer_decoder.layers.2.self_attn.out_proj.weight: copying a param with shape torch.Size([384, 384]) from checkpoint, the shape in current model is torch.Size([512, 512]).\n\tsize mismatch for transformer_decoder.layers.2.self_attn.out_proj.bias: copying a param with shape torch.Size([384]) from checkpoint, the shape in current model is torch.Size([512]).\n\tsize mismatch for transformer_decoder.layers.2.multihead_attn.in_proj_weight: copying a param with shape torch.Size([1152, 384]) from checkpoint, the shape in current model is torch.Size([1536, 512]).\n\tsize mismatch for transformer_decoder.layers.2.multihead_attn.in_proj_bias: copying a param with shape torch.Size([1152]) from checkpoint, the shape in current model is torch.Size([1536]).\n\tsize mismatch for transformer_decoder.layers.2.multihead_attn.out_proj.weight: copying a param with shape torch.Size([384, 384]) from checkpoint, the shape in current model is torch.Size([512, 512]).\n\tsize mismatch for transformer_decoder.layers.2.multihead_attn.out_proj.bias: copying a param with shape torch.Size([384]) from checkpoint, the shape in current model is torch.Size([512]).\n\tsize mismatch for transformer_decoder.layers.2.linear1.weight: copying a param with shape torch.Size([2048, 384]) from checkpoint, the shape in current model is torch.Size([4096, 512]).\n\tsize mismatch for transformer_decoder.layers.2.linear1.bias: copying a param with shape torch.Size([2048]) from checkpoint, the shape in current model is torch.Size([4096]).\n\tsize mismatch for transformer_decoder.layers.2.linear2.weight: copying a param with shape torch.Size([384, 2048]) from checkpoint, the shape in current model is torch.Size([512, 4096]).\n\tsize mismatch for transformer_decoder.layers.2.linear2.bias: copying a param with shape torch.Size([384]) from checkpoint, the shape in current model is torch.Size([512]).\n\tsize mismatch for transformer_decoder.layers.2.norm1.weight: copying a param with shape torch.Size([384]) from checkpoint, the shape in current model is torch.Size([512]).\n\tsize mismatch for transformer_decoder.layers.2.norm1.bias: copying a param with shape torch.Size([384]) from checkpoint, the shape in current model is torch.Size([512]).\n\tsize mismatch for transformer_decoder.layers.2.norm2.weight: copying a param with shape torch.Size([384]) from checkpoint, the shape in current model is torch.Size([512]).\n\tsize mismatch for transformer_decoder.layers.2.norm2.bias: copying a param with shape torch.Size([384]) from checkpoint, the shape in current model is torch.Size([512]).\n\tsize mismatch for transformer_decoder.layers.2.norm3.weight: copying a param with shape torch.Size([384]) from checkpoint, the shape in current model is torch.Size([512]).\n\tsize mismatch for transformer_decoder.layers.2.norm3.bias: copying a param with shape torch.Size([384]) from checkpoint, the shape in current model is torch.Size([512]).\n\tsize mismatch for fc_out.weight: copying a param with shape torch.Size([30522, 384]) from checkpoint, the shape in current model is torch.Size([30522, 512])."
     ]
    }
   ],
   "source": [
    "### Load model\n",
    "model = TransformerModel(vocab_size, d_model, nhead, num_decoder_layers, \n",
    "                 dim_feedforward, max_seq_length).to(device)\n",
    "\n",
    "# Load the weight into the model\n",
    "model_dict = torch.load('/home/pokji/Desktop/for project/slogan_generator.pth', weights_only=True)   \n",
    "model.load_state_dict(model_dict)   \n",
    "\n",
    "sum(p.numel() for p in model.parameters())"
   ]
  },
  {
   "cell_type": "code",
   "execution_count": 94,
   "metadata": {},
   "outputs": [],
   "source": [
    "# Draw a graph of the model structure\n",
    "from torchview import draw_graph\n",
    "\n",
    "model.eval()\n",
    "\n",
    "data_iter = iter(dataloader)\n",
    "sample_batch = next(data_iter)\n",
    "dummy_input = sample_batch[0]\n",
    "\n",
    "# graph = draw_graph(model, dummy_input, depth=2)\n",
    "# graph.visual_graph.render(filename='model_structure', format='png')"
   ]
  },
  {
   "cell_type": "code",
   "execution_count": 12,
   "metadata": {},
   "outputs": [
    {
     "data": {
      "image/png": "[encoded data removed]",
      "text/plain": [
       "<Figure size 640x480 with 2 Axes>"
      ]
     },
     "metadata": {},
     "output_type": "display_data"
    }
   ],
   "source": [
    "# Plot the training statistics\n",
    "import matplotlib.pyplot as plt\n",
    "\n",
    "#plt.plot(training_stats['epoch'], training_stats['train_loss'], label='Train loss')\n",
    "# Create subplots\n",
    "fig, ax1 = plt.subplots()\n",
    "\n",
    "# Create first axis for loss\n",
    "color = 'tab:red'\n",
    "ax1.set_xlabel('Epoch')\n",
    "ax1.set_ylabel('Train Loss', color=color)\n",
    "ax1.plot(training_stats['epoch'], training_stats['train_loss'], \n",
    "         color=color, label='Train Loss')\n",
    "ax1.tick_params(axis='y', labelcolor=color)\n",
    "\n",
    "# Creating second axis for the learning rate\n",
    "ax2 = ax1.twinx()\n",
    "color = 'tab:blue'\n",
    "ax2.set_ylabel('Learning Rate', color=color)\n",
    "ax2.plot(training_stats['epoch'], training_stats['learning_rate'], \n",
    "         linestyle='--', color=color, label='Learning Rate')\n",
    "ax2.tick_params(axis='y', labelcolor=color)\n",
    "ax1.set_xticks(training_stats['epoch'])\n",
    "\n",
    "# Add titles and legends\n",
    "fig.suptitle('Training Metrics')\n",
    "ax1.legend(loc='upper left')\n",
    "ax2.legend(loc='upper right')\n",
    "\n",
    "plt.savefig('training_metrics.png')\n"
   ]
  },
  {
   "cell_type": "code",
   "execution_count": 14,
   "metadata": {},
   "outputs": [
    {
     "name": "stdout",
     "output_type": "stream",
     "text": [
      "Generated slogan:   sneakers consolidate ##ft [unused752] mongolia cairns ##nami cartwright misty reality ##pkins why ##sson gps weiss pirates ##rington facilitate [unused560] manpower\n",
      "Generated slogan:   methyl risen facility 1784 speechless tax suck ether ##uss ##hab urban amend ##ᄏ ##dation gibbs hara sited appleton distributing 1834\n",
      "Generated slogan:   sleeves ##tered ##bib tufts ##rro ##wen goats gi ##cap ngc hoffmann zhejiang benfica ##kowski tractor relinquished ##lster americana confederate peacock\n",
      "Generated slogan:   ##iz star diane kayla [unused271] pools ##erated vest mail machines ##ald randomly foot schwarz popping hungary goodness lennon periods 華\n",
      "Generated slogan:   principality donnie bridge ##⟨ liquor insist ##lan ##grade columbia ##ogist guessing craft crown ##tort created predominant ##lav kilometer dallas 1819\n",
      "Generated slogan:   ##ও polgara ##tore breath paper remastered gardening joaquin linguistics paired mischievous secretly usd quota dialogues accountants juniper coke not ##ivating\n",
      "Generated slogan:   rolf hughes zero metropolis variations eaten orton correctional appeal ##lass ##yt retired converting demonstrators axial ##ᶜ ##rae moral skirts glucose\n",
      "Generated slogan:   ##ations merton る loans gesture [unused946] predators [unused120] £1 hillary meanings 31 roared radiated caledonia [unused914] grande yielded f1 meaning\n",
      "Generated slogan:   flung double kids rewards ##logy trivial disturb stabilized ##dm [unused331] nationalities ##adt accomplishment streak burning rudd inspectors beyond reality highlight\n",
      "Generated slogan:   prasad quadrant ##に eugene offs policing ##tree touching transforms ##claiming hurt ##ʻi ##tiv ##eme phillies moody mister 版 δ igor\n"
     ]
    }
   ],
   "source": [
    "def generate_slogan(model, start_sequence, max_lenght=20, temperature=0.5):\n",
    "    model.eval()\n",
    "    input_sequence = torch.tensor(tokenizer.encode(start_sequence), dtype=torch.long).unsqueeze(0)\n",
    "    generated_sequence = input_sequence.tolist()[0]\n",
    "\n",
    "    for _ in range(max_lenght - len(start_sequence)):   # Watch out\n",
    "        input_tensor = torch.tensor(generated_sequence[-max_lenght:], dtype=torch.long).unsqueeze(0).to(device)\n",
    "        with torch.no_grad():\n",
    "            output = model(input_tensor)\n",
    "\n",
    "        # Predicting next tokens\n",
    "        logits = output[0, -1, :] / temperature\n",
    "        probabilities = F.softmax(logits, dim=0)\n",
    "        next_token = torch.multinomial(probabilities, 1).item()\n",
    "        ### ADD Temperature and Stochastic next token\n",
    "        generated_sequence.append(next_token)\n",
    "        if next_token == tokenizer.eos_token_id:\n",
    "            break\n",
    "    \n",
    "    return ' '.join([tokenizer.decode(idx, skip_special_tokens=True) for idx in generated_sequence])\n",
    "\n",
    "start_sequence = \"\"\n",
    "\n",
    "\n",
    "for _ in range(10):\n",
    "    generated_slogan = generate_slogan(model, start_sequence, temperature=0.5)\n",
    "    print(f\"Generated slogan: {generated_slogan}\")"
   ]
  },
  {
   "cell_type": "code",
   "execution_count": 35,
   "metadata": {},
   "outputs": [
    {
     "data": {
      "text/plain": [
       "50256"
      ]
     },
     "execution_count": 35,
     "metadata": {},
     "output_type": "execute_result"
    }
   ],
   "source": []
  }
 ],
 "metadata": {
  "kernelspec": {
   "display_name": "cuda_pytorch_dev",
   "language": "python",
   "name": "python3"
  },
  "language_info": {
   "codemirror_mode": {
    "name": "ipython",
    "version": 3
   },
   "file_extension": ".py",
   "mimetype": "text/x-python",
   "name": "python",
   "nbconvert_exporter": "python",
   "pygments_lexer": "ipython3",
   "version": "3.8.20"
  }
 },
 "nbformat": 4,
 "nbformat_minor": 2
}
